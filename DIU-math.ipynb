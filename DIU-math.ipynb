{
 "cells": [
  {
   "attachments": {},
   "cell_type": "markdown",
   "metadata": {},
   "source": [
    "A python notebook containing data and calculations that show DIU's total $ value of contracts since inception as a fraction of the DoD's budgets for procurement and RDT&E over the same period.  All data sourced from: 'https://comptroller.defense.gov/Budget-Materials/'"
   ]
  },
  {
   "cell_type": "code",
   "execution_count": 1,
   "metadata": {},
   "outputs": [],
   "source": [
    "#all values in USD\n",
    "#DIU established mid 2016\n",
    "#compare total contract value JUN2016-SEP2022 inclusive to total proc and rdte budgets\n",
    "DIU_total_contracts = 4_900_000_000"
   ]
  },
  {
   "cell_type": "code",
   "execution_count": 2,
   "metadata": {},
   "outputs": [],
   "source": [
    "proc_budget = {\n",
    "    'fy16':119_859_571_000, #total enacted base + OCO\n",
    "    'fy17':125_982_508_000, #total appropriated base + OCO + ammendment; NOV16\n",
    "    'fy18':148_223_059_000, #total enacted base + OCO\n",
    "    'fy19':148_554_286_000, #total enacted base + OCO\n",
    "    'fy20':147_089_715_000, #total enacted base + OCO + emergency funding\n",
    "    'fy21':144_078_481_000, #total enacted\n",
    "    'fy22':147_287_957_000, #total enacted\n",
    "}"
   ]
  },
  {
   "cell_type": "code",
   "execution_count": 3,
   "metadata": {},
   "outputs": [],
   "source": [
    "rdte_budget = {\n",
    "    'fy16':70_633_054_000, #total appropriated base + OCO\n",
    "    'fy17':74_817_436_000, #total appropriations base + OCO\n",
    "    'fy18':92_158_993_000, #total appropriations base + OCO\n",
    "    'fy19':96_206_490_000, #total base + OCO\n",
    "    'fy20':106_137_672_000, #actual spending as report in FY21 budget\n",
    "    'fy21':107_132_994_000, #total enacted\n",
    "    'fy22':119_294_309_000 #total enacted\n",
    "}"
   ]
  },
  {
   "cell_type": "code",
   "execution_count": 4,
   "metadata": {},
   "outputs": [
    {
     "name": "stdout",
     "output_type": "stream",
     "text": [
      "proc total = 981075577000\n",
      "DIU contracts as a percentage of total proc spending: 0.4994518378475545\n",
      "rdte total: 666380948000\n",
      "DIU contracts as a precentage of total rdte spending: 0.7353151398920246\n"
     ]
    }
   ],
   "source": [
    "proc_total = 0\n",
    "for k, v in proc_budget.items():\n",
    "    proc_total += v\n",
    "\n",
    "print(f'proc total = {proc_total}')\n",
    "\n",
    "proc_precent = float((DIU_total_contracts/proc_total)) * 100\n",
    "print(f'DIU contracts as a percentage of total proc spending: {proc_precent}')\n",
    "\n",
    "rdte_total = 0\n",
    "for k, v in rdte_budget.items():\n",
    "    rdte_total += v\n",
    "print(f'rdte total: {rdte_total}')\n",
    "\n",
    "rdte_percent = float((DIU_total_contracts/rdte_total)) * 100\n",
    "print(f'DIU contracts as a precentage of total rdte spending: {rdte_percent}')"
   ]
  }
 ],
 "metadata": {
  "kernelspec": {
   "display_name": "Python 3",
   "language": "python",
   "name": "python3"
  },
  "language_info": {
   "codemirror_mode": {
    "name": "ipython",
    "version": 3
   },
   "file_extension": ".py",
   "mimetype": "text/x-python",
   "name": "python",
   "nbconvert_exporter": "python",
   "pygments_lexer": "ipython3",
   "version": "3.11.1"
  },
  "orig_nbformat": 4,
  "vscode": {
   "interpreter": {
    "hash": "aee8b7b246df8f9039afb4144a1f6fd8d2ca17a180786b69acc140d282b71a49"
   }
  }
 },
 "nbformat": 4,
 "nbformat_minor": 2
}
